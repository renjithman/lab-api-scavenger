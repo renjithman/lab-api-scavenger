{
 "cells": [
  {
   "cell_type": "markdown",
   "metadata": {},
   "source": [
    "### Challenge 1: Fork Languages\n",
    "\n",
    "You will find out how many programming languages are used among all the forks created from the main lab repo of ironhack Madrid. The URL is  `ironhack-datalabs/madrid-oct-2018`, you will:\n",
    "\n",
    "\n",
    "1. Obtain the full list of forks created from the main lab repo via Github API.\n",
    "\n",
    "1. Loop the JSON response to find out the `language` attribute of each fork. Use an array to store the `language` attributes of each fork.\n",
    "    * *Hint: Each language should appear only once in your array.*\n",
    "\n",
    "1. Print the language array. It should be something like:\n",
    "\n",
    "\t```[\"Python\", \"Jupyter Notebook\", \"HTML\"]``` \n",
    "\t\t\tor\n",
    "\t```[\"Jupyter Notebook\", \"HTML\", None]```\n",
    "\n",
    "Again, the documentation of Github API is [here](https://developer.github.com/v3/)."
   ]
  },
  {
   "cell_type": "code",
   "execution_count": 1,
   "metadata": {},
   "outputs": [],
   "source": [
    "import pandas as pd\n",
    "import requests\n",
    "\n",
    "url = \"https://api.github.com/repos/ironhack-datalabs/mad-oct-2018/languages\"\n",
    "\n",
    "response = requests.get(url=url)"
   ]
  },
  {
   "cell_type": "code",
   "execution_count": 2,
   "metadata": {},
   "outputs": [
    {
     "data": {
      "text/plain": [
       "200"
      ]
     },
     "execution_count": 2,
     "metadata": {},
     "output_type": "execute_result"
    }
   ],
   "source": [
    "response.status_code"
   ]
  },
  {
   "cell_type": "code",
   "execution_count": 4,
   "metadata": {},
   "outputs": [
    {
     "data": {
      "text/plain": [
       "{'Jupyter Notebook': 1134241, 'HTML': 498316, 'Python': 8691}"
      ]
     },
     "execution_count": 4,
     "metadata": {},
     "output_type": "execute_result"
    }
   ],
   "source": [
    "response.json()"
   ]
  },
  {
   "cell_type": "code",
   "execution_count": 3,
   "metadata": {},
   "outputs": [
    {
     "name": "stdout",
     "output_type": "stream",
     "text": [
      "['Jupyter Notebook', 'HTML', 'Python']\n"
     ]
    }
   ],
   "source": [
    "languages = list(response.json())\n",
    "print(languages)"
   ]
  },
  {
   "cell_type": "markdown",
   "metadata": {},
   "source": [
    "### Challenge 2: Count Commits\n",
    "\n",
    "From your own `lab-list-comprehensions` repo, you will count how many commits were made in the past 2 weeks:\n",
    "\n",
    "1. Obtain all the commits made in the past 2 weeks via API, which is a JSON array that contains multiple commit objects.\n",
    "\n",
    "2. Count how many commit objects are contained in the array.\n"
   ]
  },
  {
   "cell_type": "code",
   "execution_count": 6,
   "metadata": {},
   "outputs": [],
   "source": [
    "from requests.auth import HTTPBasicAuth\n",
    "import getpass"
   ]
  },
  {
   "cell_type": "code",
   "execution_count": 10,
   "metadata": {},
   "outputs": [
    {
     "data": {
      "text/plain": [
       "{'login': 'renjithman',\n",
       " 'id': 114178178,\n",
       " 'node_id': 'U_kgDOBs44gg',\n",
       " 'avatar_url': 'https://avatars.githubusercontent.com/u/114178178?v=4',\n",
       " 'gravatar_id': '',\n",
       " 'url': 'https://api.github.com/users/renjithman',\n",
       " 'html_url': 'https://github.com/renjithman',\n",
       " 'followers_url': 'https://api.github.com/users/renjithman/followers',\n",
       " 'following_url': 'https://api.github.com/users/renjithman/following{/other_user}',\n",
       " 'gists_url': 'https://api.github.com/users/renjithman/gists{/gist_id}',\n",
       " 'starred_url': 'https://api.github.com/users/renjithman/starred{/owner}{/repo}',\n",
       " 'subscriptions_url': 'https://api.github.com/users/renjithman/subscriptions',\n",
       " 'organizations_url': 'https://api.github.com/users/renjithman/orgs',\n",
       " 'repos_url': 'https://api.github.com/users/renjithman/repos',\n",
       " 'events_url': 'https://api.github.com/users/renjithman/events{/privacy}',\n",
       " 'received_events_url': 'https://api.github.com/users/renjithman/received_events',\n",
       " 'type': 'User',\n",
       " 'site_admin': False,\n",
       " 'name': None,\n",
       " 'company': None,\n",
       " 'blog': '',\n",
       " 'location': None,\n",
       " 'email': None,\n",
       " 'hireable': None,\n",
       " 'bio': None,\n",
       " 'twitter_username': None,\n",
       " 'public_repos': 18,\n",
       " 'public_gists': 0,\n",
       " 'followers': 0,\n",
       " 'following': 0,\n",
       " 'created_at': '2022-09-22T16:56:34Z',\n",
       " 'updated_at': '2022-10-19T20:15:10Z'}"
      ]
     },
     "execution_count": 10,
     "metadata": {},
     "output_type": "execute_result"
    }
   ],
   "source": [
    "url = \"https://api.github.com/user\"\n",
    "\n",
    "password = getpass.getpass()\n",
    "response = requests.get(url=url, auth=HTTPBasicAuth(\"renjithman\", password))\n",
    "response.json()"
   ]
  },
  {
   "cell_type": "code",
   "execution_count": 13,
   "metadata": {},
   "outputs": [
    {
     "data": {
      "text/plain": [
       "200"
      ]
     },
     "execution_count": 13,
     "metadata": {},
     "output_type": "execute_result"
    }
   ],
   "source": [
    "url=\"https://api.github.com/repos/renjithman/lab-list-comprehensions/commits\"\n",
    "response = requests.get(url=url)\n",
    "response.status_code"
   ]
  },
  {
   "cell_type": "code",
   "execution_count": 14,
   "metadata": {},
   "outputs": [
    {
     "data": {
      "text/html": [
       "<div>\n",
       "<style scoped>\n",
       "    .dataframe tbody tr th:only-of-type {\n",
       "        vertical-align: middle;\n",
       "    }\n",
       "\n",
       "    .dataframe tbody tr th {\n",
       "        vertical-align: top;\n",
       "    }\n",
       "\n",
       "    .dataframe thead th {\n",
       "        text-align: right;\n",
       "    }\n",
       "</style>\n",
       "<table border=\"1\" class=\"dataframe\">\n",
       "  <thead>\n",
       "    <tr style=\"text-align: right;\">\n",
       "      <th></th>\n",
       "      <th>sha</th>\n",
       "      <th>node_id</th>\n",
       "      <th>commit</th>\n",
       "      <th>url</th>\n",
       "      <th>html_url</th>\n",
       "      <th>comments_url</th>\n",
       "      <th>author</th>\n",
       "      <th>committer</th>\n",
       "      <th>parents</th>\n",
       "    </tr>\n",
       "  </thead>\n",
       "  <tbody>\n",
       "    <tr>\n",
       "      <th>0</th>\n",
       "      <td>94ae3859786be718e1908f25ada7f7a0c0d54a08</td>\n",
       "      <td>C_kwDOIHyCY9oAKDk0YWUzODU5Nzg2YmU3MThlMTkwOGYy...</td>\n",
       "      <td>{'author': {'name': 'Renjith Maniyanipurathu',...</td>\n",
       "      <td>https://api.github.com/repos/renjithman/lab-li...</td>\n",
       "      <td>https://github.com/renjithman/lab-list-compreh...</td>\n",
       "      <td>https://api.github.com/repos/renjithman/lab-li...</td>\n",
       "      <td>{'login': 'renjithman', 'id': 114178178, 'node...</td>\n",
       "      <td>{'login': 'renjithman', 'id': 114178178, 'node...</td>\n",
       "      <td>[{'sha': '81a3949e43179fa48412a0df1560afcb8127...</td>\n",
       "    </tr>\n",
       "    <tr>\n",
       "      <th>1</th>\n",
       "      <td>81a3949e43179fa48412a0df1560afcb81270bdd</td>\n",
       "      <td>C_kwDOIHyCY9oAKDgxYTM5NDllNDMxNzlmYTQ4NDEyYTBk...</td>\n",
       "      <td>{'author': {'name': 'Renjith Maniyanipurathu',...</td>\n",
       "      <td>https://api.github.com/repos/renjithman/lab-li...</td>\n",
       "      <td>https://github.com/renjithman/lab-list-compreh...</td>\n",
       "      <td>https://api.github.com/repos/renjithman/lab-li...</td>\n",
       "      <td>{'login': 'renjithman', 'id': 114178178, 'node...</td>\n",
       "      <td>{'login': 'renjithman', 'id': 114178178, 'node...</td>\n",
       "      <td>[{'sha': '8949a53afaeae22f5ce7eba669b73c4479c9...</td>\n",
       "    </tr>\n",
       "    <tr>\n",
       "      <th>2</th>\n",
       "      <td>8949a53afaeae22f5ce7eba669b73c4479c93542</td>\n",
       "      <td>MDY6Q29tbWl0NTQ1MDMwNzU1Ojg5NDlhNTNhZmFlYWUyMm...</td>\n",
       "      <td>{'author': {'name': 'carlosmd14', 'email': 'ca...</td>\n",
       "      <td>https://api.github.com/repos/renjithman/lab-li...</td>\n",
       "      <td>https://github.com/renjithman/lab-list-compreh...</td>\n",
       "      <td>https://api.github.com/repos/renjithman/lab-li...</td>\n",
       "      <td>{'login': 'Madrizing', 'id': 45972288, 'node_i...</td>\n",
       "      <td>{'login': 'Madrizing', 'id': 45972288, 'node_i...</td>\n",
       "      <td>[{'sha': '5621b3256668f9a15172d79124be70933fab...</td>\n",
       "    </tr>\n",
       "    <tr>\n",
       "      <th>3</th>\n",
       "      <td>5621b3256668f9a15172d79124be70933faba2d9</td>\n",
       "      <td>MDY6Q29tbWl0NTQ1MDMwNzU1OjU2MjFiMzI1NjY2OGY5YT...</td>\n",
       "      <td>{'author': {'name': 'carlosmd14', 'email': 'ca...</td>\n",
       "      <td>https://api.github.com/repos/renjithman/lab-li...</td>\n",
       "      <td>https://github.com/renjithman/lab-list-compreh...</td>\n",
       "      <td>https://api.github.com/repos/renjithman/lab-li...</td>\n",
       "      <td>{'login': 'Madrizing', 'id': 45972288, 'node_i...</td>\n",
       "      <td>{'login': 'Madrizing', 'id': 45972288, 'node_i...</td>\n",
       "      <td>[{'sha': '80d757c463929428fcc3257b8f48d811a66d...</td>\n",
       "    </tr>\n",
       "    <tr>\n",
       "      <th>4</th>\n",
       "      <td>80d757c463929428fcc3257b8f48d811a66dc6cc</td>\n",
       "      <td>MDY6Q29tbWl0NTQ1MDMwNzU1OjgwZDc1N2M0NjM5Mjk0Mj...</td>\n",
       "      <td>{'author': {'name': 'carlosmd14', 'email': 'ca...</td>\n",
       "      <td>https://api.github.com/repos/renjithman/lab-li...</td>\n",
       "      <td>https://github.com/renjithman/lab-list-compreh...</td>\n",
       "      <td>https://api.github.com/repos/renjithman/lab-li...</td>\n",
       "      <td>{'login': 'Madrizing', 'id': 45972288, 'node_i...</td>\n",
       "      <td>{'login': 'Madrizing', 'id': 45972288, 'node_i...</td>\n",
       "      <td>[]</td>\n",
       "    </tr>\n",
       "  </tbody>\n",
       "</table>\n",
       "</div>"
      ],
      "text/plain": [
       "                                        sha  \\\n",
       "0  94ae3859786be718e1908f25ada7f7a0c0d54a08   \n",
       "1  81a3949e43179fa48412a0df1560afcb81270bdd   \n",
       "2  8949a53afaeae22f5ce7eba669b73c4479c93542   \n",
       "3  5621b3256668f9a15172d79124be70933faba2d9   \n",
       "4  80d757c463929428fcc3257b8f48d811a66dc6cc   \n",
       "\n",
       "                                             node_id  \\\n",
       "0  C_kwDOIHyCY9oAKDk0YWUzODU5Nzg2YmU3MThlMTkwOGYy...   \n",
       "1  C_kwDOIHyCY9oAKDgxYTM5NDllNDMxNzlmYTQ4NDEyYTBk...   \n",
       "2  MDY6Q29tbWl0NTQ1MDMwNzU1Ojg5NDlhNTNhZmFlYWUyMm...   \n",
       "3  MDY6Q29tbWl0NTQ1MDMwNzU1OjU2MjFiMzI1NjY2OGY5YT...   \n",
       "4  MDY6Q29tbWl0NTQ1MDMwNzU1OjgwZDc1N2M0NjM5Mjk0Mj...   \n",
       "\n",
       "                                              commit  \\\n",
       "0  {'author': {'name': 'Renjith Maniyanipurathu',...   \n",
       "1  {'author': {'name': 'Renjith Maniyanipurathu',...   \n",
       "2  {'author': {'name': 'carlosmd14', 'email': 'ca...   \n",
       "3  {'author': {'name': 'carlosmd14', 'email': 'ca...   \n",
       "4  {'author': {'name': 'carlosmd14', 'email': 'ca...   \n",
       "\n",
       "                                                 url  \\\n",
       "0  https://api.github.com/repos/renjithman/lab-li...   \n",
       "1  https://api.github.com/repos/renjithman/lab-li...   \n",
       "2  https://api.github.com/repos/renjithman/lab-li...   \n",
       "3  https://api.github.com/repos/renjithman/lab-li...   \n",
       "4  https://api.github.com/repos/renjithman/lab-li...   \n",
       "\n",
       "                                            html_url  \\\n",
       "0  https://github.com/renjithman/lab-list-compreh...   \n",
       "1  https://github.com/renjithman/lab-list-compreh...   \n",
       "2  https://github.com/renjithman/lab-list-compreh...   \n",
       "3  https://github.com/renjithman/lab-list-compreh...   \n",
       "4  https://github.com/renjithman/lab-list-compreh...   \n",
       "\n",
       "                                        comments_url  \\\n",
       "0  https://api.github.com/repos/renjithman/lab-li...   \n",
       "1  https://api.github.com/repos/renjithman/lab-li...   \n",
       "2  https://api.github.com/repos/renjithman/lab-li...   \n",
       "3  https://api.github.com/repos/renjithman/lab-li...   \n",
       "4  https://api.github.com/repos/renjithman/lab-li...   \n",
       "\n",
       "                                              author  \\\n",
       "0  {'login': 'renjithman', 'id': 114178178, 'node...   \n",
       "1  {'login': 'renjithman', 'id': 114178178, 'node...   \n",
       "2  {'login': 'Madrizing', 'id': 45972288, 'node_i...   \n",
       "3  {'login': 'Madrizing', 'id': 45972288, 'node_i...   \n",
       "4  {'login': 'Madrizing', 'id': 45972288, 'node_i...   \n",
       "\n",
       "                                           committer  \\\n",
       "0  {'login': 'renjithman', 'id': 114178178, 'node...   \n",
       "1  {'login': 'renjithman', 'id': 114178178, 'node...   \n",
       "2  {'login': 'Madrizing', 'id': 45972288, 'node_i...   \n",
       "3  {'login': 'Madrizing', 'id': 45972288, 'node_i...   \n",
       "4  {'login': 'Madrizing', 'id': 45972288, 'node_i...   \n",
       "\n",
       "                                             parents  \n",
       "0  [{'sha': '81a3949e43179fa48412a0df1560afcb8127...  \n",
       "1  [{'sha': '8949a53afaeae22f5ce7eba669b73c4479c9...  \n",
       "2  [{'sha': '5621b3256668f9a15172d79124be70933fab...  \n",
       "3  [{'sha': '80d757c463929428fcc3257b8f48d811a66d...  \n",
       "4                                                 []  "
      ]
     },
     "execution_count": 14,
     "metadata": {},
     "output_type": "execute_result"
    }
   ],
   "source": [
    "count = pd.DataFrame(response.json())\n",
    "count"
   ]
  },
  {
   "cell_type": "code",
   "execution_count": 16,
   "metadata": {},
   "outputs": [
    {
     "data": {
      "text/plain": [
       "5"
      ]
     },
     "execution_count": 16,
     "metadata": {},
     "output_type": "execute_result"
    }
   ],
   "source": [
    "count[\"node_id\"].value_counts().sum()"
   ]
  },
  {
   "cell_type": "code",
   "execution_count": null,
   "metadata": {},
   "outputs": [],
   "source": []
  }
 ],
 "metadata": {
  "kernelspec": {
   "display_name": "Python 3.9.13 ('ironhack')",
   "language": "python",
   "name": "python3"
  },
  "language_info": {
   "codemirror_mode": {
    "name": "ipython",
    "version": 3
   },
   "file_extension": ".py",
   "mimetype": "text/x-python",
   "name": "python",
   "nbconvert_exporter": "python",
   "pygments_lexer": "ipython3",
   "version": "3.9.13"
  },
  "orig_nbformat": 4,
  "vscode": {
   "interpreter": {
    "hash": "e12592868aae83fdfb2cb660ed6b73ab8bd50243d8951f2080c524e394ecb037"
   }
  }
 },
 "nbformat": 4,
 "nbformat_minor": 2
}
